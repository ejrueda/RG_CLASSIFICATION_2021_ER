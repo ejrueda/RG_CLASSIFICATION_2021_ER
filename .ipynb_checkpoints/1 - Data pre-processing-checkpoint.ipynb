{
 "cells": [
  {
   "cell_type": "code",
   "execution_count": 2,
   "metadata": {},
   "outputs": [
    {
     "data": {
      "text/html": [
       "\n",
       "    <div class=\"bk-root\">\n",
       "        <a href=\"https://bokeh.org\" target=\"_blank\" class=\"bk-logo bk-logo-small bk-logo-notebook\"></a>\n",
       "        <span id=\"1003\">Loading BokehJS ...</span>\n",
       "    </div>"
      ]
     },
     "metadata": {},
     "output_type": "display_data"
    },
    {
     "data": {
      "application/javascript": [
       "\n",
       "(function(root) {\n",
       "  function now() {\n",
       "    return new Date();\n",
       "  }\n",
       "\n",
       "  var force = true;\n",
       "\n",
       "  if (typeof root._bokeh_onload_callbacks === \"undefined\" || force === true) {\n",
       "    root._bokeh_onload_callbacks = [];\n",
       "    root._bokeh_is_loading = undefined;\n",
       "  }\n",
       "\n",
       "  var JS_MIME_TYPE = 'application/javascript';\n",
       "  var HTML_MIME_TYPE = 'text/html';\n",
       "  var EXEC_MIME_TYPE = 'application/vnd.bokehjs_exec.v0+json';\n",
       "  var CLASS_NAME = 'output_bokeh rendered_html';\n",
       "\n",
       "  /**\n",
       "   * Render data to the DOM node\n",
       "   */\n",
       "  function render(props, node) {\n",
       "    var script = document.createElement(\"script\");\n",
       "    node.appendChild(script);\n",
       "  }\n",
       "\n",
       "  /**\n",
       "   * Handle when an output is cleared or removed\n",
       "   */\n",
       "  function handleClearOutput(event, handle) {\n",
       "    var cell = handle.cell;\n",
       "\n",
       "    var id = cell.output_area._bokeh_element_id;\n",
       "    var server_id = cell.output_area._bokeh_server_id;\n",
       "    // Clean up Bokeh references\n",
       "    if (id != null && id in Bokeh.index) {\n",
       "      Bokeh.index[id].model.document.clear();\n",
       "      delete Bokeh.index[id];\n",
       "    }\n",
       "\n",
       "    if (server_id !== undefined) {\n",
       "      // Clean up Bokeh references\n",
       "      var cmd = \"from bokeh.io.state import curstate; print(curstate().uuid_to_server['\" + server_id + \"'].get_sessions()[0].document.roots[0]._id)\";\n",
       "      cell.notebook.kernel.execute(cmd, {\n",
       "        iopub: {\n",
       "          output: function(msg) {\n",
       "            var id = msg.content.text.trim();\n",
       "            if (id in Bokeh.index) {\n",
       "              Bokeh.index[id].model.document.clear();\n",
       "              delete Bokeh.index[id];\n",
       "            }\n",
       "          }\n",
       "        }\n",
       "      });\n",
       "      // Destroy server and session\n",
       "      var cmd = \"import bokeh.io.notebook as ion; ion.destroy_server('\" + server_id + \"')\";\n",
       "      cell.notebook.kernel.execute(cmd);\n",
       "    }\n",
       "  }\n",
       "\n",
       "  /**\n",
       "   * Handle when a new output is added\n",
       "   */\n",
       "  function handleAddOutput(event, handle) {\n",
       "    var output_area = handle.output_area;\n",
       "    var output = handle.output;\n",
       "\n",
       "    // limit handleAddOutput to display_data with EXEC_MIME_TYPE content only\n",
       "    if ((output.output_type != \"display_data\") || (!Object.prototype.hasOwnProperty.call(output.data, EXEC_MIME_TYPE))) {\n",
       "      return\n",
       "    }\n",
       "\n",
       "    var toinsert = output_area.element.find(\".\" + CLASS_NAME.split(' ')[0]);\n",
       "\n",
       "    if (output.metadata[EXEC_MIME_TYPE][\"id\"] !== undefined) {\n",
       "      toinsert[toinsert.length - 1].firstChild.textContent = output.data[JS_MIME_TYPE];\n",
       "      // store reference to embed id on output_area\n",
       "      output_area._bokeh_element_id = output.metadata[EXEC_MIME_TYPE][\"id\"];\n",
       "    }\n",
       "    if (output.metadata[EXEC_MIME_TYPE][\"server_id\"] !== undefined) {\n",
       "      var bk_div = document.createElement(\"div\");\n",
       "      bk_div.innerHTML = output.data[HTML_MIME_TYPE];\n",
       "      var script_attrs = bk_div.children[0].attributes;\n",
       "      for (var i = 0; i < script_attrs.length; i++) {\n",
       "        toinsert[toinsert.length - 1].firstChild.setAttribute(script_attrs[i].name, script_attrs[i].value);\n",
       "        toinsert[toinsert.length - 1].firstChild.textContent = bk_div.children[0].textContent\n",
       "      }\n",
       "      // store reference to server id on output_area\n",
       "      output_area._bokeh_server_id = output.metadata[EXEC_MIME_TYPE][\"server_id\"];\n",
       "    }\n",
       "  }\n",
       "\n",
       "  function register_renderer(events, OutputArea) {\n",
       "\n",
       "    function append_mime(data, metadata, element) {\n",
       "      // create a DOM node to render to\n",
       "      var toinsert = this.create_output_subarea(\n",
       "        metadata,\n",
       "        CLASS_NAME,\n",
       "        EXEC_MIME_TYPE\n",
       "      );\n",
       "      this.keyboard_manager.register_events(toinsert);\n",
       "      // Render to node\n",
       "      var props = {data: data, metadata: metadata[EXEC_MIME_TYPE]};\n",
       "      render(props, toinsert[toinsert.length - 1]);\n",
       "      element.append(toinsert);\n",
       "      return toinsert\n",
       "    }\n",
       "\n",
       "    /* Handle when an output is cleared or removed */\n",
       "    events.on('clear_output.CodeCell', handleClearOutput);\n",
       "    events.on('delete.Cell', handleClearOutput);\n",
       "\n",
       "    /* Handle when a new output is added */\n",
       "    events.on('output_added.OutputArea', handleAddOutput);\n",
       "\n",
       "    /**\n",
       "     * Register the mime type and append_mime function with output_area\n",
       "     */\n",
       "    OutputArea.prototype.register_mime_type(EXEC_MIME_TYPE, append_mime, {\n",
       "      /* Is output safe? */\n",
       "      safe: true,\n",
       "      /* Index of renderer in `output_area.display_order` */\n",
       "      index: 0\n",
       "    });\n",
       "  }\n",
       "\n",
       "  // register the mime type if in Jupyter Notebook environment and previously unregistered\n",
       "  if (root.Jupyter !== undefined) {\n",
       "    var events = require('base/js/events');\n",
       "    var OutputArea = require('notebook/js/outputarea').OutputArea;\n",
       "\n",
       "    if (OutputArea.prototype.mime_types().indexOf(EXEC_MIME_TYPE) == -1) {\n",
       "      register_renderer(events, OutputArea);\n",
       "    }\n",
       "  }\n",
       "\n",
       "  \n",
       "  if (typeof (root._bokeh_timeout) === \"undefined\" || force === true) {\n",
       "    root._bokeh_timeout = Date.now() + 5000;\n",
       "    root._bokeh_failed_load = false;\n",
       "  }\n",
       "\n",
       "  var NB_LOAD_WARNING = {'data': {'text/html':\n",
       "     \"<div style='background-color: #fdd'>\\n\"+\n",
       "     \"<p>\\n\"+\n",
       "     \"BokehJS does not appear to have successfully loaded. If loading BokehJS from CDN, this \\n\"+\n",
       "     \"may be due to a slow or bad network connection. Possible fixes:\\n\"+\n",
       "     \"</p>\\n\"+\n",
       "     \"<ul>\\n\"+\n",
       "     \"<li>re-rerun `output_notebook()` to attempt to load from CDN again, or</li>\\n\"+\n",
       "     \"<li>use INLINE resources instead, as so:</li>\\n\"+\n",
       "     \"</ul>\\n\"+\n",
       "     \"<code>\\n\"+\n",
       "     \"from bokeh.resources import INLINE\\n\"+\n",
       "     \"output_notebook(resources=INLINE)\\n\"+\n",
       "     \"</code>\\n\"+\n",
       "     \"</div>\"}};\n",
       "\n",
       "  function display_loaded() {\n",
       "    var el = document.getElementById(\"1003\");\n",
       "    if (el != null) {\n",
       "      el.textContent = \"BokehJS is loading...\";\n",
       "    }\n",
       "    if (root.Bokeh !== undefined) {\n",
       "      if (el != null) {\n",
       "        el.textContent = \"BokehJS \" + root.Bokeh.version + \" successfully loaded.\";\n",
       "      }\n",
       "    } else if (Date.now() < root._bokeh_timeout) {\n",
       "      setTimeout(display_loaded, 100)\n",
       "    }\n",
       "  }\n",
       "\n",
       "\n",
       "  function run_callbacks() {\n",
       "    try {\n",
       "      root._bokeh_onload_callbacks.forEach(function(callback) {\n",
       "        if (callback != null)\n",
       "          callback();\n",
       "      });\n",
       "    } finally {\n",
       "      delete root._bokeh_onload_callbacks\n",
       "    }\n",
       "    console.debug(\"Bokeh: all callbacks have finished\");\n",
       "  }\n",
       "\n",
       "  function load_libs(css_urls, js_urls, callback) {\n",
       "    if (css_urls == null) css_urls = [];\n",
       "    if (js_urls == null) js_urls = [];\n",
       "\n",
       "    root._bokeh_onload_callbacks.push(callback);\n",
       "    if (root._bokeh_is_loading > 0) {\n",
       "      console.debug(\"Bokeh: BokehJS is being loaded, scheduling callback at\", now());\n",
       "      return null;\n",
       "    }\n",
       "    if (js_urls == null || js_urls.length === 0) {\n",
       "      run_callbacks();\n",
       "      return null;\n",
       "    }\n",
       "    console.debug(\"Bokeh: BokehJS not loaded, scheduling load and callback at\", now());\n",
       "    root._bokeh_is_loading = css_urls.length + js_urls.length;\n",
       "\n",
       "    function on_load() {\n",
       "      root._bokeh_is_loading--;\n",
       "      if (root._bokeh_is_loading === 0) {\n",
       "        console.debug(\"Bokeh: all BokehJS libraries/stylesheets loaded\");\n",
       "        run_callbacks()\n",
       "      }\n",
       "    }\n",
       "\n",
       "    function on_error(url) {\n",
       "      console.error(\"failed to load \" + url);\n",
       "    }\n",
       "\n",
       "    for (let i = 0; i < css_urls.length; i++) {\n",
       "      const url = css_urls[i];\n",
       "      const element = document.createElement(\"link\");\n",
       "      element.onload = on_load;\n",
       "      element.onerror = on_error.bind(null, url);\n",
       "      element.rel = \"stylesheet\";\n",
       "      element.type = \"text/css\";\n",
       "      element.href = url;\n",
       "      console.debug(\"Bokeh: injecting link tag for BokehJS stylesheet: \", url);\n",
       "      document.body.appendChild(element);\n",
       "    }\n",
       "\n",
       "    const hashes = {\"https://cdn.bokeh.org/bokeh/release/bokeh-2.3.1.min.js\": \"YF85VygJKMVnHE+lLv2AM93Vbstr0yo2TbIu5v8se5Rq3UQAUmcuh4aaJwNlpKwa\", \"https://cdn.bokeh.org/bokeh/release/bokeh-widgets-2.3.1.min.js\": \"KKuas3gevv3PvrlkyCMzffFeaMq5we/a2QsP5AUoS3mJ0jmaCL7jirFJN3GoE/lM\", \"https://cdn.bokeh.org/bokeh/release/bokeh-tables-2.3.1.min.js\": \"MK/uFc3YT18pkvvXRl66tTHjP0/dxoSH2e/eiNMFIguKlun2+WVqaPTWmUy/zvh4\"};\n",
       "\n",
       "    for (let i = 0; i < js_urls.length; i++) {\n",
       "      const url = js_urls[i];\n",
       "      const element = document.createElement('script');\n",
       "      element.onload = on_load;\n",
       "      element.onerror = on_error.bind(null, url);\n",
       "      element.async = false;\n",
       "      element.src = url;\n",
       "      if (url in hashes) {\n",
       "        element.crossOrigin = \"anonymous\";\n",
       "        element.integrity = \"sha384-\" + hashes[url];\n",
       "      }\n",
       "      console.debug(\"Bokeh: injecting script tag for BokehJS library: \", url);\n",
       "      document.head.appendChild(element);\n",
       "    }\n",
       "  };\n",
       "\n",
       "  function inject_raw_css(css) {\n",
       "    const element = document.createElement(\"style\");\n",
       "    element.appendChild(document.createTextNode(css));\n",
       "    document.body.appendChild(element);\n",
       "  }\n",
       "\n",
       "  \n",
       "  var js_urls = [\"https://cdn.bokeh.org/bokeh/release/bokeh-2.3.1.min.js\", \"https://cdn.bokeh.org/bokeh/release/bokeh-widgets-2.3.1.min.js\", \"https://cdn.bokeh.org/bokeh/release/bokeh-tables-2.3.1.min.js\"];\n",
       "  var css_urls = [];\n",
       "  \n",
       "\n",
       "  var inline_js = [\n",
       "    function(Bokeh) {\n",
       "      Bokeh.set_log_level(\"info\");\n",
       "    },\n",
       "    function(Bokeh) {\n",
       "    \n",
       "    \n",
       "    }\n",
       "  ];\n",
       "\n",
       "  function run_inline_js() {\n",
       "    \n",
       "    if (root.Bokeh !== undefined || force === true) {\n",
       "      \n",
       "    for (var i = 0; i < inline_js.length; i++) {\n",
       "      inline_js[i].call(root, root.Bokeh);\n",
       "    }\n",
       "    if (force === true) {\n",
       "        display_loaded();\n",
       "      }} else if (Date.now() < root._bokeh_timeout) {\n",
       "      setTimeout(run_inline_js, 100);\n",
       "    } else if (!root._bokeh_failed_load) {\n",
       "      console.log(\"Bokeh: BokehJS failed to load within specified timeout.\");\n",
       "      root._bokeh_failed_load = true;\n",
       "    } else if (force !== true) {\n",
       "      var cell = $(document.getElementById(\"1003\")).parents('.cell').data().cell;\n",
       "      cell.output_area.append_execute_result(NB_LOAD_WARNING)\n",
       "    }\n",
       "\n",
       "  }\n",
       "\n",
       "  if (root._bokeh_is_loading === 0) {\n",
       "    console.debug(\"Bokeh: BokehJS loaded, going straight to plotting\");\n",
       "    run_inline_js();\n",
       "  } else {\n",
       "    load_libs(css_urls, js_urls, function() {\n",
       "      console.debug(\"Bokeh: BokehJS plotting callback run at\", now());\n",
       "      run_inline_js();\n",
       "    });\n",
       "  }\n",
       "}(window));"
      ],
      "application/vnd.bokehjs_load.v0+json": "\n(function(root) {\n  function now() {\n    return new Date();\n  }\n\n  var force = true;\n\n  if (typeof root._bokeh_onload_callbacks === \"undefined\" || force === true) {\n    root._bokeh_onload_callbacks = [];\n    root._bokeh_is_loading = undefined;\n  }\n\n  \n\n  \n  if (typeof (root._bokeh_timeout) === \"undefined\" || force === true) {\n    root._bokeh_timeout = Date.now() + 5000;\n    root._bokeh_failed_load = false;\n  }\n\n  var NB_LOAD_WARNING = {'data': {'text/html':\n     \"<div style='background-color: #fdd'>\\n\"+\n     \"<p>\\n\"+\n     \"BokehJS does not appear to have successfully loaded. If loading BokehJS from CDN, this \\n\"+\n     \"may be due to a slow or bad network connection. Possible fixes:\\n\"+\n     \"</p>\\n\"+\n     \"<ul>\\n\"+\n     \"<li>re-rerun `output_notebook()` to attempt to load from CDN again, or</li>\\n\"+\n     \"<li>use INLINE resources instead, as so:</li>\\n\"+\n     \"</ul>\\n\"+\n     \"<code>\\n\"+\n     \"from bokeh.resources import INLINE\\n\"+\n     \"output_notebook(resources=INLINE)\\n\"+\n     \"</code>\\n\"+\n     \"</div>\"}};\n\n  function display_loaded() {\n    var el = document.getElementById(\"1003\");\n    if (el != null) {\n      el.textContent = \"BokehJS is loading...\";\n    }\n    if (root.Bokeh !== undefined) {\n      if (el != null) {\n        el.textContent = \"BokehJS \" + root.Bokeh.version + \" successfully loaded.\";\n      }\n    } else if (Date.now() < root._bokeh_timeout) {\n      setTimeout(display_loaded, 100)\n    }\n  }\n\n\n  function run_callbacks() {\n    try {\n      root._bokeh_onload_callbacks.forEach(function(callback) {\n        if (callback != null)\n          callback();\n      });\n    } finally {\n      delete root._bokeh_onload_callbacks\n    }\n    console.debug(\"Bokeh: all callbacks have finished\");\n  }\n\n  function load_libs(css_urls, js_urls, callback) {\n    if (css_urls == null) css_urls = [];\n    if (js_urls == null) js_urls = [];\n\n    root._bokeh_onload_callbacks.push(callback);\n    if (root._bokeh_is_loading > 0) {\n      console.debug(\"Bokeh: BokehJS is being loaded, scheduling callback at\", now());\n      return null;\n    }\n    if (js_urls == null || js_urls.length === 0) {\n      run_callbacks();\n      return null;\n    }\n    console.debug(\"Bokeh: BokehJS not loaded, scheduling load and callback at\", now());\n    root._bokeh_is_loading = css_urls.length + js_urls.length;\n\n    function on_load() {\n      root._bokeh_is_loading--;\n      if (root._bokeh_is_loading === 0) {\n        console.debug(\"Bokeh: all BokehJS libraries/stylesheets loaded\");\n        run_callbacks()\n      }\n    }\n\n    function on_error(url) {\n      console.error(\"failed to load \" + url);\n    }\n\n    for (let i = 0; i < css_urls.length; i++) {\n      const url = css_urls[i];\n      const element = document.createElement(\"link\");\n      element.onload = on_load;\n      element.onerror = on_error.bind(null, url);\n      element.rel = \"stylesheet\";\n      element.type = \"text/css\";\n      element.href = url;\n      console.debug(\"Bokeh: injecting link tag for BokehJS stylesheet: \", url);\n      document.body.appendChild(element);\n    }\n\n    const hashes = {\"https://cdn.bokeh.org/bokeh/release/bokeh-2.3.1.min.js\": \"YF85VygJKMVnHE+lLv2AM93Vbstr0yo2TbIu5v8se5Rq3UQAUmcuh4aaJwNlpKwa\", \"https://cdn.bokeh.org/bokeh/release/bokeh-widgets-2.3.1.min.js\": \"KKuas3gevv3PvrlkyCMzffFeaMq5we/a2QsP5AUoS3mJ0jmaCL7jirFJN3GoE/lM\", \"https://cdn.bokeh.org/bokeh/release/bokeh-tables-2.3.1.min.js\": \"MK/uFc3YT18pkvvXRl66tTHjP0/dxoSH2e/eiNMFIguKlun2+WVqaPTWmUy/zvh4\"};\n\n    for (let i = 0; i < js_urls.length; i++) {\n      const url = js_urls[i];\n      const element = document.createElement('script');\n      element.onload = on_load;\n      element.onerror = on_error.bind(null, url);\n      element.async = false;\n      element.src = url;\n      if (url in hashes) {\n        element.crossOrigin = \"anonymous\";\n        element.integrity = \"sha384-\" + hashes[url];\n      }\n      console.debug(\"Bokeh: injecting script tag for BokehJS library: \", url);\n      document.head.appendChild(element);\n    }\n  };\n\n  function inject_raw_css(css) {\n    const element = document.createElement(\"style\");\n    element.appendChild(document.createTextNode(css));\n    document.body.appendChild(element);\n  }\n\n  \n  var js_urls = [\"https://cdn.bokeh.org/bokeh/release/bokeh-2.3.1.min.js\", \"https://cdn.bokeh.org/bokeh/release/bokeh-widgets-2.3.1.min.js\", \"https://cdn.bokeh.org/bokeh/release/bokeh-tables-2.3.1.min.js\"];\n  var css_urls = [];\n  \n\n  var inline_js = [\n    function(Bokeh) {\n      Bokeh.set_log_level(\"info\");\n    },\n    function(Bokeh) {\n    \n    \n    }\n  ];\n\n  function run_inline_js() {\n    \n    if (root.Bokeh !== undefined || force === true) {\n      \n    for (var i = 0; i < inline_js.length; i++) {\n      inline_js[i].call(root, root.Bokeh);\n    }\n    if (force === true) {\n        display_loaded();\n      }} else if (Date.now() < root._bokeh_timeout) {\n      setTimeout(run_inline_js, 100);\n    } else if (!root._bokeh_failed_load) {\n      console.log(\"Bokeh: BokehJS failed to load within specified timeout.\");\n      root._bokeh_failed_load = true;\n    } else if (force !== true) {\n      var cell = $(document.getElementById(\"1003\")).parents('.cell').data().cell;\n      cell.output_area.append_execute_result(NB_LOAD_WARNING)\n    }\n\n  }\n\n  if (root._bokeh_is_loading === 0) {\n    console.debug(\"Bokeh: BokehJS loaded, going straight to plotting\");\n    run_inline_js();\n  } else {\n    load_libs(css_urls, js_urls, function() {\n      console.debug(\"Bokeh: BokehJS plotting callback run at\", now());\n      run_inline_js();\n    });\n  }\n}(window));"
     },
     "metadata": {},
     "output_type": "display_data"
    }
   ],
   "source": [
    "import pandas as pd\n",
    "import numpy as np\n",
    "import matplotlib.pyplot as plt\n",
    "from bokeh.plotting import figure, show, output_file, output_notebook\n",
    "output_notebook()\n",
    "from bokeh.io import export_png, save, export_svgs\n",
    "%matplotlib inline"
   ]
  },
  {
   "cell_type": "code",
   "execution_count": 3,
   "metadata": {},
   "outputs": [
    {
     "name": "stdout",
     "output_type": "stream",
     "text": [
      "Tamanho dos dados: (4293, 9)\n"
     ]
    },
    {
     "data": {
      "text/html": [
       "<div>\n",
       "<style scoped>\n",
       "    .dataframe tbody tr th:only-of-type {\n",
       "        vertical-align: middle;\n",
       "    }\n",
       "\n",
       "    .dataframe tbody tr th {\n",
       "        vertical-align: top;\n",
       "    }\n",
       "\n",
       "    .dataframe thead th {\n",
       "        text-align: right;\n",
       "    }\n",
       "</style>\n",
       "<table border=\"1\" class=\"dataframe\">\n",
       "  <thead>\n",
       "    <tr style=\"text-align: right;\">\n",
       "      <th></th>\n",
       "      <th>BB9</th>\n",
       "      <th>BB10</th>\n",
       "      <th>BB17</th>\n",
       "      <th>BB19</th>\n",
       "      <th>BB20</th>\n",
       "      <th>BB21</th>\n",
       "      <th>BB11</th>\n",
       "      <th>BB12</th>\n",
       "      <th>BB18</th>\n",
       "    </tr>\n",
       "    <tr>\n",
       "      <th>gene</th>\n",
       "      <th></th>\n",
       "      <th></th>\n",
       "      <th></th>\n",
       "      <th></th>\n",
       "      <th></th>\n",
       "      <th></th>\n",
       "      <th></th>\n",
       "      <th></th>\n",
       "      <th></th>\n",
       "    </tr>\n",
       "  </thead>\n",
       "  <tbody>\n",
       "    <tr>\n",
       "      <th>aaeA</th>\n",
       "      <td>45.6132</td>\n",
       "      <td>57.7381</td>\n",
       "      <td>35.4817</td>\n",
       "      <td>71.4413</td>\n",
       "      <td>75.5846</td>\n",
       "      <td>59.6099</td>\n",
       "      <td>93.7032</td>\n",
       "      <td>78.2685</td>\n",
       "      <td>75.4577</td>\n",
       "    </tr>\n",
       "    <tr>\n",
       "      <th>aaeB</th>\n",
       "      <td>48.4527</td>\n",
       "      <td>42.2968</td>\n",
       "      <td>41.1391</td>\n",
       "      <td>44.0555</td>\n",
       "      <td>47.6292</td>\n",
       "      <td>51.5953</td>\n",
       "      <td>56.3065</td>\n",
       "      <td>69.1718</td>\n",
       "      <td>58.5695</td>\n",
       "    </tr>\n",
       "    <tr>\n",
       "      <th>aaeR</th>\n",
       "      <td>49.0572</td>\n",
       "      <td>53.1486</td>\n",
       "      <td>33.4681</td>\n",
       "      <td>55.6848</td>\n",
       "      <td>43.8708</td>\n",
       "      <td>64.5169</td>\n",
       "      <td>51.3741</td>\n",
       "      <td>77.9266</td>\n",
       "      <td>79043.0000</td>\n",
       "    </tr>\n",
       "    <tr>\n",
       "      <th>aaeX</th>\n",
       "      <td>66.7322</td>\n",
       "      <td>64.9632</td>\n",
       "      <td>64.3814</td>\n",
       "      <td>81.0705</td>\n",
       "      <td>52586.0000</td>\n",
       "      <td>69.0053</td>\n",
       "      <td>64.9201</td>\n",
       "      <td>69.2443</td>\n",
       "      <td>56966.0000</td>\n",
       "    </tr>\n",
       "    <tr>\n",
       "      <th>aas</th>\n",
       "      <td>73.7846</td>\n",
       "      <td>77.6379</td>\n",
       "      <td>77.6300</td>\n",
       "      <td>65.1203</td>\n",
       "      <td>64.7268</td>\n",
       "      <td>77.6184</td>\n",
       "      <td>77.5343</td>\n",
       "      <td>95.9067</td>\n",
       "      <td>93.9019</td>\n",
       "    </tr>\n",
       "  </tbody>\n",
       "</table>\n",
       "</div>"
      ],
      "text/plain": [
       "          BB9     BB10     BB17     BB19        BB20     BB21     BB11  \\\n",
       "gene                                                                     \n",
       "aaeA  45.6132  57.7381  35.4817  71.4413     75.5846  59.6099  93.7032   \n",
       "aaeB  48.4527  42.2968  41.1391  44.0555     47.6292  51.5953  56.3065   \n",
       "aaeR  49.0572  53.1486  33.4681  55.6848     43.8708  64.5169  51.3741   \n",
       "aaeX  66.7322  64.9632  64.3814  81.0705  52586.0000  69.0053  64.9201   \n",
       "aas   73.7846  77.6379  77.6300  65.1203     64.7268  77.6184  77.5343   \n",
       "\n",
       "         BB12        BB18  \n",
       "gene                       \n",
       "aaeA  78.2685     75.4577  \n",
       "aaeB  69.1718     58.5695  \n",
       "aaeR  77.9266  79043.0000  \n",
       "aaeX  69.2443  56966.0000  \n",
       "aas   95.9067     93.9019  "
      ]
     },
     "execution_count": 3,
     "metadata": {},
     "output_type": "execute_result"
    }
   ],
   "source": [
    "datos = pd.read_csv(\"./data/all_counts_9_norm_rpkm.csv\", index_col=0, usecols=[\"gene\", \"BB9\", \"BB10\", \"BB17\",\n",
    "                                                                              \"BB19\", \"BB20\", \"BB21\",\n",
    "                                                                              \"BB11\", \"BB12\", \"BB18\"])\n",
    "print(\"Tamanho dos dados:\", datos.shape)\n",
    "datos.head()"
   ]
  },
  {
   "cell_type": "code",
   "execution_count": 4,
   "metadata": {},
   "outputs": [
    {
     "data": {
      "text/html": [
       "<div>\n",
       "<style scoped>\n",
       "    .dataframe tbody tr th:only-of-type {\n",
       "        vertical-align: middle;\n",
       "    }\n",
       "\n",
       "    .dataframe tbody tr th {\n",
       "        vertical-align: top;\n",
       "    }\n",
       "\n",
       "    .dataframe thead th {\n",
       "        text-align: right;\n",
       "    }\n",
       "</style>\n",
       "<table border=\"1\" class=\"dataframe\">\n",
       "  <thead>\n",
       "    <tr style=\"text-align: right;\">\n",
       "      <th></th>\n",
       "      <th>BB9</th>\n",
       "      <th>BB10</th>\n",
       "      <th>BB17</th>\n",
       "      <th>BB19</th>\n",
       "      <th>BB20</th>\n",
       "      <th>BB21</th>\n",
       "      <th>BB11</th>\n",
       "      <th>BB12</th>\n",
       "      <th>BB18</th>\n",
       "    </tr>\n",
       "    <tr>\n",
       "      <th>gene</th>\n",
       "      <th></th>\n",
       "      <th></th>\n",
       "      <th></th>\n",
       "      <th></th>\n",
       "      <th></th>\n",
       "      <th></th>\n",
       "      <th></th>\n",
       "      <th></th>\n",
       "      <th></th>\n",
       "    </tr>\n",
       "  </thead>\n",
       "  <tbody>\n",
       "    <tr>\n",
       "      <th>aaeA</th>\n",
       "      <td>45.6132</td>\n",
       "      <td>57.7381</td>\n",
       "      <td>35.4817</td>\n",
       "      <td>71.4413</td>\n",
       "      <td>75.5846</td>\n",
       "      <td>59.6099</td>\n",
       "      <td>93.7032</td>\n",
       "      <td>78.2685</td>\n",
       "      <td>75.4577</td>\n",
       "    </tr>\n",
       "    <tr>\n",
       "      <th>aaeB</th>\n",
       "      <td>48.4527</td>\n",
       "      <td>42.2968</td>\n",
       "      <td>41.1391</td>\n",
       "      <td>44.0555</td>\n",
       "      <td>47.6292</td>\n",
       "      <td>51.5953</td>\n",
       "      <td>56.3065</td>\n",
       "      <td>69.1718</td>\n",
       "      <td>58.5695</td>\n",
       "    </tr>\n",
       "    <tr>\n",
       "      <th>aaeR</th>\n",
       "      <td>49.0572</td>\n",
       "      <td>53.1486</td>\n",
       "      <td>33.4681</td>\n",
       "      <td>55.6848</td>\n",
       "      <td>43.8708</td>\n",
       "      <td>64.5169</td>\n",
       "      <td>51.3741</td>\n",
       "      <td>77.9266</td>\n",
       "      <td>79043.0000</td>\n",
       "    </tr>\n",
       "    <tr>\n",
       "      <th>aaeX</th>\n",
       "      <td>66.7322</td>\n",
       "      <td>64.9632</td>\n",
       "      <td>64.3814</td>\n",
       "      <td>81.0705</td>\n",
       "      <td>52586.0000</td>\n",
       "      <td>69.0053</td>\n",
       "      <td>64.9201</td>\n",
       "      <td>69.2443</td>\n",
       "      <td>56966.0000</td>\n",
       "    </tr>\n",
       "    <tr>\n",
       "      <th>aas</th>\n",
       "      <td>73.7846</td>\n",
       "      <td>77.6379</td>\n",
       "      <td>77.6300</td>\n",
       "      <td>65.1203</td>\n",
       "      <td>64.7268</td>\n",
       "      <td>77.6184</td>\n",
       "      <td>77.5343</td>\n",
       "      <td>95.9067</td>\n",
       "      <td>93.9019</td>\n",
       "    </tr>\n",
       "    <tr>\n",
       "      <th>...</th>\n",
       "      <td>...</td>\n",
       "      <td>...</td>\n",
       "      <td>...</td>\n",
       "      <td>...</td>\n",
       "      <td>...</td>\n",
       "      <td>...</td>\n",
       "      <td>...</td>\n",
       "      <td>...</td>\n",
       "      <td>...</td>\n",
       "    </tr>\n",
       "    <tr>\n",
       "      <th>zraR</th>\n",
       "      <td>35.4703</td>\n",
       "      <td>24.4186</td>\n",
       "      <td>23.7445</td>\n",
       "      <td>26.4566</td>\n",
       "      <td>33.6869</td>\n",
       "      <td>42.3778</td>\n",
       "      <td>38.6865</td>\n",
       "      <td>48.7258</td>\n",
       "      <td>38.8266</td>\n",
       "    </tr>\n",
       "    <tr>\n",
       "      <th>zraS</th>\n",
       "      <td>43.5567</td>\n",
       "      <td>29.8736</td>\n",
       "      <td>33.9754</td>\n",
       "      <td>41.5843</td>\n",
       "      <td>33.4615</td>\n",
       "      <td>44.0745</td>\n",
       "      <td>62356.0000</td>\n",
       "      <td>53.2674</td>\n",
       "      <td>43.9796</td>\n",
       "    </tr>\n",
       "    <tr>\n",
       "      <th>zupT</th>\n",
       "      <td>191.5700</td>\n",
       "      <td>206206.0000</td>\n",
       "      <td>257553.0000</td>\n",
       "      <td>250797.0000</td>\n",
       "      <td>250387.0000</td>\n",
       "      <td>189776.0000</td>\n",
       "      <td>185402.0000</td>\n",
       "      <td>129102.0000</td>\n",
       "      <td>185584.0000</td>\n",
       "    </tr>\n",
       "    <tr>\n",
       "      <th>zur</th>\n",
       "      <td>118365.0000</td>\n",
       "      <td>112728.0000</td>\n",
       "      <td>107.7400</td>\n",
       "      <td>150219.0000</td>\n",
       "      <td>158.4800</td>\n",
       "      <td>105323.0000</td>\n",
       "      <td>103801.0000</td>\n",
       "      <td>88.3758</td>\n",
       "      <td>91.9189</td>\n",
       "    </tr>\n",
       "    <tr>\n",
       "      <th>zwf</th>\n",
       "      <td>257.2100</td>\n",
       "      <td>257809.0000</td>\n",
       "      <td>408953.0000</td>\n",
       "      <td>229.8700</td>\n",
       "      <td>230908.0000</td>\n",
       "      <td>146734.0000</td>\n",
       "      <td>156795.0000</td>\n",
       "      <td>80.9111</td>\n",
       "      <td>158291.0000</td>\n",
       "    </tr>\n",
       "  </tbody>\n",
       "</table>\n",
       "<p>4293 rows × 9 columns</p>\n",
       "</div>"
      ],
      "text/plain": [
       "              BB9         BB10         BB17         BB19         BB20  \\\n",
       "gene                                                                    \n",
       "aaeA      45.6132      57.7381      35.4817      71.4413      75.5846   \n",
       "aaeB      48.4527      42.2968      41.1391      44.0555      47.6292   \n",
       "aaeR      49.0572      53.1486      33.4681      55.6848      43.8708   \n",
       "aaeX      66.7322      64.9632      64.3814      81.0705   52586.0000   \n",
       "aas       73.7846      77.6379      77.6300      65.1203      64.7268   \n",
       "...           ...          ...          ...          ...          ...   \n",
       "zraR      35.4703      24.4186      23.7445      26.4566      33.6869   \n",
       "zraS      43.5567      29.8736      33.9754      41.5843      33.4615   \n",
       "zupT     191.5700  206206.0000  257553.0000  250797.0000  250387.0000   \n",
       "zur   118365.0000  112728.0000     107.7400  150219.0000     158.4800   \n",
       "zwf      257.2100  257809.0000  408953.0000     229.8700  230908.0000   \n",
       "\n",
       "             BB21         BB11         BB12         BB18  \n",
       "gene                                                      \n",
       "aaeA      59.6099      93.7032      78.2685      75.4577  \n",
       "aaeB      51.5953      56.3065      69.1718      58.5695  \n",
       "aaeR      64.5169      51.3741      77.9266   79043.0000  \n",
       "aaeX      69.0053      64.9201      69.2443   56966.0000  \n",
       "aas       77.6184      77.5343      95.9067      93.9019  \n",
       "...           ...          ...          ...          ...  \n",
       "zraR      42.3778      38.6865      48.7258      38.8266  \n",
       "zraS      44.0745   62356.0000      53.2674      43.9796  \n",
       "zupT  189776.0000  185402.0000  129102.0000  185584.0000  \n",
       "zur   105323.0000  103801.0000      88.3758      91.9189  \n",
       "zwf   146734.0000  156795.0000      80.9111  158291.0000  \n",
       "\n",
       "[4293 rows x 9 columns]"
      ]
     },
     "execution_count": 4,
     "metadata": {},
     "output_type": "execute_result"
    }
   ],
   "source": [
    "datos"
   ]
  },
  {
   "cell_type": "markdown",
   "metadata": {},
   "source": [
    "###  genes não expresos"
   ]
  },
  {
   "cell_type": "code",
   "execution_count": 5,
   "metadata": {},
   "outputs": [
    {
     "name": "stdout",
     "output_type": "stream",
     "text": [
      "85\n"
     ]
    },
    {
     "data": {
      "text/plain": [
       "(4191, 9)"
      ]
     },
     "execution_count": 5,
     "metadata": {},
     "output_type": "execute_result"
    }
   ],
   "source": [
    "g_nex = datos[np.sum(datos,axis=1)==0].index\n",
    "print(len(g_nex))\n",
    "datos = datos.drop(g_nex)\n",
    "datos.shape"
   ]
  },
  {
   "cell_type": "markdown",
   "metadata": {},
   "source": [
    "### Logaritmo dos dados\n",
    "- Devido à que os dados apresentam muita variação, eles são levados a $log_{2}(features + 1)$."
   ]
  },
  {
   "cell_type": "code",
   "execution_count": 6,
   "metadata": {},
   "outputs": [
    {
     "data": {
      "text/html": [
       "<div>\n",
       "<style scoped>\n",
       "    .dataframe tbody tr th:only-of-type {\n",
       "        vertical-align: middle;\n",
       "    }\n",
       "\n",
       "    .dataframe tbody tr th {\n",
       "        vertical-align: top;\n",
       "    }\n",
       "\n",
       "    .dataframe thead th {\n",
       "        text-align: right;\n",
       "    }\n",
       "</style>\n",
       "<table border=\"1\" class=\"dataframe\">\n",
       "  <thead>\n",
       "    <tr style=\"text-align: right;\">\n",
       "      <th></th>\n",
       "      <th>BB9</th>\n",
       "      <th>BB10</th>\n",
       "      <th>BB17</th>\n",
       "      <th>BB19</th>\n",
       "      <th>BB20</th>\n",
       "      <th>BB21</th>\n",
       "      <th>BB11</th>\n",
       "      <th>BB12</th>\n",
       "      <th>BB18</th>\n",
       "    </tr>\n",
       "    <tr>\n",
       "      <th>gene</th>\n",
       "      <th></th>\n",
       "      <th></th>\n",
       "      <th></th>\n",
       "      <th></th>\n",
       "      <th></th>\n",
       "      <th></th>\n",
       "      <th></th>\n",
       "      <th></th>\n",
       "      <th></th>\n",
       "    </tr>\n",
       "  </thead>\n",
       "  <tbody>\n",
       "    <tr>\n",
       "      <th>aaeA</th>\n",
       "      <td>5.542667</td>\n",
       "      <td>5.876225</td>\n",
       "      <td>5.189101</td>\n",
       "      <td>6.178741</td>\n",
       "      <td>6.258982</td>\n",
       "      <td>5.921482</td>\n",
       "      <td>6.565341</td>\n",
       "      <td>6.308676</td>\n",
       "      <td>6.256590</td>\n",
       "    </tr>\n",
       "    <tr>\n",
       "      <th>aaeB</th>\n",
       "      <td>5.627977</td>\n",
       "      <td>5.436188</td>\n",
       "      <td>5.397088</td>\n",
       "      <td>5.493631</td>\n",
       "      <td>5.603751</td>\n",
       "      <td>5.716862</td>\n",
       "      <td>5.840627</td>\n",
       "      <td>6.132819</td>\n",
       "      <td>5.896502</td>\n",
       "    </tr>\n",
       "    <tr>\n",
       "      <th>aaeR</th>\n",
       "      <td>5.645506</td>\n",
       "      <td>5.758852</td>\n",
       "      <td>5.107190</td>\n",
       "      <td>5.824890</td>\n",
       "      <td>5.487705</td>\n",
       "      <td>6.033795</td>\n",
       "      <td>5.710782</td>\n",
       "      <td>6.302440</td>\n",
       "      <td>16.270368</td>\n",
       "    </tr>\n",
       "    <tr>\n",
       "      <th>aaeX</th>\n",
       "      <td>6.081770</td>\n",
       "      <td>6.043589</td>\n",
       "      <td>6.030808</td>\n",
       "      <td>6.358792</td>\n",
       "      <td>15.682419</td>\n",
       "      <td>6.129392</td>\n",
       "      <td>6.042647</td>\n",
       "      <td>6.134309</td>\n",
       "      <td>15.797839</td>\n",
       "    </tr>\n",
       "    <tr>\n",
       "      <th>aas</th>\n",
       "      <td>6.224669</td>\n",
       "      <td>6.297153</td>\n",
       "      <td>6.297008</td>\n",
       "      <td>6.047021</td>\n",
       "      <td>6.038410</td>\n",
       "      <td>6.296795</td>\n",
       "      <td>6.295251</td>\n",
       "      <td>6.598525</td>\n",
       "      <td>6.568365</td>\n",
       "    </tr>\n",
       "  </tbody>\n",
       "</table>\n",
       "</div>"
      ],
      "text/plain": [
       "           BB9      BB10      BB17      BB19       BB20      BB21      BB11  \\\n",
       "gene                                                                          \n",
       "aaeA  5.542667  5.876225  5.189101  6.178741   6.258982  5.921482  6.565341   \n",
       "aaeB  5.627977  5.436188  5.397088  5.493631   5.603751  5.716862  5.840627   \n",
       "aaeR  5.645506  5.758852  5.107190  5.824890   5.487705  6.033795  5.710782   \n",
       "aaeX  6.081770  6.043589  6.030808  6.358792  15.682419  6.129392  6.042647   \n",
       "aas   6.224669  6.297153  6.297008  6.047021   6.038410  6.296795  6.295251   \n",
       "\n",
       "          BB12       BB18  \n",
       "gene                       \n",
       "aaeA  6.308676   6.256590  \n",
       "aaeB  6.132819   5.896502  \n",
       "aaeR  6.302440  16.270368  \n",
       "aaeX  6.134309  15.797839  \n",
       "aas   6.598525   6.568365  "
      ]
     },
     "execution_count": 6,
     "metadata": {},
     "output_type": "execute_result"
    }
   ],
   "source": [
    "datos = np.log2(datos + 1)\n",
    "datos.head()"
   ]
  },
  {
   "cell_type": "code",
   "execution_count": 8,
   "metadata": {},
   "outputs": [
    {
     "name": "stdout",
     "output_type": "stream",
     "text": [
      "quantidade de genes de referência: 21\n",
      "['cysG', 'hcaT', 'idnT', 'rrsA', 'ihfB', 'ssrA', 'gyrA', 'recA', 'rpoB', 'rpoA', 'gyrB', 'rho', 'ftsZ', 'secA', 'rpoC', 'gmk', 'adk', 'rpoD', 'dnaG', 'glnA', 'recF']\n"
     ]
    }
   ],
   "source": [
    "ob_rg = open(\"data/reference_genes.txt\")\n",
    "rg = [g for g in ob_rg.read().splitlines()]\n",
    "print(\"quantidade de genes de referência:\", len(rg))\n",
    "print(rg)"
   ]
  },
  {
   "cell_type": "markdown",
   "metadata": {},
   "source": [
    "### Coeficiente de variação (CV)\n",
    "- para todos os genes é calculado o cv para poder ver quais genes tem um comportamento diferente aos demais."
   ]
  },
  {
   "cell_type": "code",
   "execution_count": 9,
   "metadata": {},
   "outputs": [],
   "source": [
    "cv_datos = {}\n",
    "for idx, val in datos.iterrows():\n",
    "    cv_datos[idx] = np.std(val)/np.mean(val)"
   ]
  },
  {
   "cell_type": "code",
   "execution_count": null,
   "metadata": {},
   "outputs": [],
   "source": [
    "cv_datos"
   ]
  },
  {
   "cell_type": "code",
   "execution_count": 12,
   "metadata": {},
   "outputs": [
    {
     "name": "stdout",
     "output_type": "stream",
     "text": [
      "número de valores nan:  0\n"
     ]
    }
   ],
   "source": [
    "nan_list = []\n",
    "for kv in cv_datos.items():\n",
    "    if np.isnan(kv[1]):\n",
    "        nan_list.append(kv[0])\n",
    "print(\"número de valores nan: \", len(nan_list))"
   ]
  },
  {
   "cell_type": "code",
   "execution_count": 14,
   "metadata": {},
   "outputs": [],
   "source": [
    "rg_cvvals = [cv_datos[i] for i  in rg]\n",
    "rg_q25 = np.quantile(rg_cvvals, q=.25, interpolation=\"midpoint\")\n",
    "rg_q50 = np.quantile(rg_cvvals, q=.5, interpolation=\"midpoint\")\n",
    "rg_q75 = np.quantile(rg_cvvals, q=.75, interpolation=\"midpoint\")\n",
    "rg_upper = rg_q75 + 1.5*(rg_q75-rg_q25)\n",
    "rg_lower = rg_q25 - 1.5*(rg_q75-rg_q25)"
   ]
  },
  {
   "cell_type": "code",
   "execution_count": 15,
   "metadata": {},
   "outputs": [
    {
     "data": {
      "image/png": "[encoded data removed]",
      "text/plain": [
       "<Figure size 432x360 with 1 Axes>"
      ]
     },
     "metadata": {
      "needs_background": "light"
     },
     "output_type": "display_data"
    }
   ],
   "source": [
    "fig1 = plt.figure(figsize=(6,5))\n",
    "i = 0\n",
    "ax1 = fig1.add_subplot()\n",
    "ax1.spines[\"top\"].set_visible(False)\n",
    "ax1.spines[\"right\"].set_visible(False)\n",
    "plt.title(\"CV dos genes de referência\", fontsize=13)\n",
    "plt.ylabel(\"coeficiente de variação\", fontsize=13)\n",
    "for gene in rg:\n",
    "    if cv_datos[gene] <= rg_upper and cv_datos[gene] >= rg_lower:\n",
    "        plt.scatter(1, cv_datos[gene], color=\"blue\");\n",
    "    else:\n",
    "        plt.scatter(1, cv_datos[gene], color=\"red\", label=\"outliers\");\n",
    "    i += 1\n",
    "plt.boxplot(rg_cvvals, whis=1.5);\n",
    "plt.legend();"
   ]
  },
  {
   "cell_type": "code",
   "execution_count": 16,
   "metadata": {},
   "outputs": [
    {
     "name": "stdout",
     "output_type": "stream",
     "text": [
      "max cv:  0.5005366248219769\n",
      "------------ outliers -------------\n",
      "gene: idnT cv: 0.5082800362135752\n"
     ]
    }
   ],
   "source": [
    "lg_drop = []\n",
    "print(\"max cv: \", rg_upper)\n",
    "print(\"------------ outliers -------------\")\n",
    "for gene in rg:\n",
    "    if cv_datos[gene] > rg_upper or cv_datos[gene] < rg_lower:\n",
    "        lg_drop.append(gene)\n",
    "        print(\"gene:\", gene, \"cv:\", cv_datos[gene])\n"
   ]
  },
  {
   "cell_type": "code",
   "execution_count": 17,
   "metadata": {},
   "outputs": [],
   "source": [
    "def boxtplot_values(v):\n",
    "    \"\"\"\n",
    "    return the values to plot a boxplot with ouliers\n",
    "    \"\"\"\n",
    "    q25 = np.quantile(v, q=.25, interpolation=\"midpoint\")\n",
    "    q50 = np.quantile(v, q=.5, interpolation=\"midpoint\")\n",
    "    q75 = np.quantile(v, q=.75, interpolation=\"midpoint\")\n",
    "    lower = q25 - 1.5*(q75-q25)\n",
    "    if lower<0: lower=0\n",
    "    upper = q75 + 1.5*(q75-q25)\n",
    "    #outliers\n",
    "    outliers = v[(v<lower)|(v>upper)]\n",
    "    \n",
    "    return [lower, q25, q50, q75, upper], outliers"
   ]
  },
  {
   "cell_type": "code",
   "execution_count": 18,
   "metadata": {},
   "outputs": [],
   "source": [
    "nc_cvvals = {}\n",
    "for i  in cv_datos.keys():\n",
    "    if i not in rg:\n",
    "        nc_cvvals[i] = cv_datos[i]"
   ]
  },
  {
   "cell_type": "code",
   "execution_count": 19,
   "metadata": {},
   "outputs": [
    {
     "data": {
      "text/plain": [
       "(4170, 4191)"
      ]
     },
     "execution_count": 19,
     "metadata": {},
     "output_type": "execute_result"
    }
   ],
   "source": [
    "len(nc_cvvals), len(cv_datos)"
   ]
  },
  {
   "cell_type": "code",
   "execution_count": 20,
   "metadata": {},
   "outputs": [
    {
     "data": {
      "text/plain": [
       "(['cysG',\n",
       "  'hcaT',\n",
       "  'idnT',\n",
       "  'rrsA',\n",
       "  'ihfB',\n",
       "  'ssrA',\n",
       "  'gyrA',\n",
       "  'recA',\n",
       "  'rpoB',\n",
       "  'rpoA',\n",
       "  'gyrB',\n",
       "  'rho',\n",
       "  'ftsZ',\n",
       "  'secA',\n",
       "  'rpoC',\n",
       "  'gmk',\n",
       "  'adk',\n",
       "  'rpoD',\n",
       "  'dnaG',\n",
       "  'glnA',\n",
       "  'recF'],\n",
       " 'idnT')"
      ]
     },
     "execution_count": 20,
     "metadata": {},
     "output_type": "execute_result"
    }
   ],
   "source": [
    "rg, \"idnT\""
   ]
  },
  {
   "cell_type": "code",
   "execution_count": 21,
   "metadata": {},
   "outputs": [],
   "source": [
    "nc_vals = [i for i in nc_cvvals.values()]\n",
    "nc_q25 = np.quantile(nc_vals, q=.25, interpolation=\"midpoint\")\n",
    "nc_q50 = np.quantile(nc_vals, q=.5, interpolation=\"midpoint\")\n",
    "nc_q75 = np.quantile(nc_vals, q=.75, interpolation=\"midpoint\")\n",
    "nc_upper = nc_q75 + 1.5*(nc_q75-nc_q25)\n",
    "nc_lower = nc_q25 - 1.5*(nc_q75-nc_q25)"
   ]
  },
  {
   "cell_type": "code",
   "execution_count": 23,
   "metadata": {},
   "outputs": [
    {
     "data": {
      "text/html": [
       "\n",
       "\n",
       "\n",
       "\n",
       "\n",
       "\n",
       "  <div class=\"bk-root\" id=\"648bbd1c-ce09-4834-8004-c84d24181a27\" data-root-id=\"1496\"></div>\n"
      ]
     },
     "metadata": {},
     "output_type": "display_data"
    },
    {
     "data": {
      "application/javascript": [
       "(function(root) {\n",
       "  function embed_document(root) {\n",
       "    \n",
       "  var docs_json = {\"7cfa0dfd-3344-46d2-b65f-f58ebdddb4d5\":{\"defs\":[],\"roots\":{\"references\":[{\"attributes\":{\"below\":[{\"id\":\"1505\"}],\"center\":[{\"id\":\"1507\"},{\"id\":\"1511\"},{\"id\":\"1577\"}],\"height\":200,\"left\":[{\"id\":\"1508\"}],\"output_backend\":\"svg\",\"renderers\":[{\"id\":\"1516\"},{\"id\":\"1521\"},{\"id\":\"1526\"},{\"id\":\"1531\"},{\"id\":\"1536\"},{\"id\":\"1541\"},{\"id\":\"1546\"},{\"id\":\"1551\"}],\"title\":{\"id\":\"1554\"},\"toolbar\":{\"id\":\"1512\"},\"toolbar_location\":null,\"width\":280,\"x_range\":{\"id\":\"1497\"},\"x_scale\":{\"id\":\"1501\"},\"y_range\":{\"id\":\"1499\"},\"y_scale\":{\"id\":\"1503\"}},\"id\":\"1496\",\"subtype\":\"Figure\",\"type\":\"Plot\"},{\"attributes\":{\"bottom\":{\"field\":\"bottom\"},\"fill_color\":{\"value\":\"#3B8686\"},\"top\":{\"field\":\"top\"},\"width\":{\"value\":0.3},\"x\":{\"field\":\"x\"}},\"id\":\"1529\",\"type\":\"VBar\"},{\"attributes\":{\"source\":{\"id\":\"1518\"}},\"id\":\"1522\",\"type\":\"CDSView\"},{\"attributes\":{},\"id\":\"1499\",\"type\":\"DataRange1d\"},{\"attributes\":{},\"id\":\"1554\",\"type\":\"Title\"},{\"attributes\":{\"bottom\":{\"field\":\"bottom\"},\"fill_alpha\":{\"value\":0.1},\"fill_color\":{\"value\":\"#E08E79\"},\"line_alpha\":{\"value\":0.1},\"top\":{\"field\":\"top\"},\"width\":{\"value\":0.3},\"x\":{\"field\":\"x\"}},\"id\":\"1525\",\"type\":\"VBar\"},{\"attributes\":{},\"id\":\"1571\",\"type\":\"Selection\"},{\"attributes\":{\"data_source\":{\"id\":\"1513\"},\"glyph\":{\"id\":\"1514\"},\"hover_glyph\":null,\"muted_glyph\":null,\"nonselection_glyph\":{\"id\":\"1515\"},\"view\":{\"id\":\"1517\"}},\"id\":\"1516\",\"type\":\"GlyphRenderer\"},{\"attributes\":{},\"id\":\"1561\",\"type\":\"Selection\"},{\"attributes\":{\"data_source\":{\"id\":\"1533\"},\"glyph\":{\"id\":\"1534\"},\"hover_glyph\":null,\"muted_glyph\":null,\"nonselection_glyph\":{\"id\":\"1535\"},\"view\":{\"id\":\"1537\"}},\"id\":\"1536\",\"type\":\"GlyphRenderer\"},{\"attributes\":{},\"id\":\"1572\",\"type\":\"UnionRenderers\"},{\"attributes\":{},\"id\":\"1562\",\"type\":\"UnionRenderers\"},{\"attributes\":{\"data\":{\"bottom\":[0.22872084846542823,0.4817284153686147],\"top\":[0.18407738946242252,0.4085256003299532],\"x\":[\"Reference Genes\",\"Unclassified genes\"]},\"selected\":{\"id\":\"1565\"},\"selection_policy\":{\"id\":\"1566\"}},\"id\":\"1523\",\"type\":\"ColumnDataSource\"},{\"attributes\":{\"data_source\":{\"id\":\"1518\"},\"glyph\":{\"id\":\"1519\"},\"hover_glyph\":null,\"muted_glyph\":null,\"nonselection_glyph\":{\"id\":\"1520\"},\"view\":{\"id\":\"1522\"}},\"id\":\"1521\",\"type\":\"GlyphRenderer\"},{\"attributes\":{\"source\":{\"id\":\"1513\"}},\"id\":\"1517\",\"type\":\"CDSView\"},{\"attributes\":{\"bottom\":{\"field\":\"bottom\"},\"fill_color\":{\"value\":\"#E08E79\"},\"top\":{\"field\":\"top\"},\"width\":{\"value\":0.3},\"x\":{\"field\":\"x\"}},\"id\":\"1524\",\"type\":\"VBar\"},{\"attributes\":{},\"id\":\"1567\",\"type\":\"Selection\"},{\"attributes\":{},\"id\":\"1568\",\"type\":\"UnionRenderers\"},{\"attributes\":{\"line_alpha\":{\"value\":0.1},\"x0\":{\"field\":\"x0\"},\"x1\":{\"field\":\"x1\"},\"y0\":{\"field\":\"y0\"},\"y1\":{\"field\":\"y1\"}},\"id\":\"1520\",\"type\":\"Segment\"},{\"attributes\":{\"data_source\":{\"id\":\"1523\"},\"glyph\":{\"id\":\"1524\"},\"hover_glyph\":null,\"muted_glyph\":null,\"nonselection_glyph\":{\"id\":\"1525\"},\"view\":{\"id\":\"1527\"}},\"id\":\"1526\",\"type\":\"GlyphRenderer\"},{\"attributes\":{\"fill_alpha\":{\"value\":0.1},\"fill_color\":{\"value\":\"#1f77b4\"},\"height\":{\"value\":0.0001},\"line_alpha\":{\"value\":0.1},\"width\":{\"value\":0.2},\"x\":{\"field\":\"x\"},\"y\":{\"field\":\"y\"}},\"id\":\"1540\",\"type\":\"Rect\"},{\"attributes\":{\"fill_color\":{\"value\":\"#1f77b4\"},\"height\":{\"value\":0.0001},\"width\":{\"value\":0.2},\"x\":{\"field\":\"x\"},\"y\":{\"field\":\"y\"}},\"id\":\"1539\",\"type\":\"Rect\"},{\"attributes\":{\"data\":{\"x\":[\"Reference Genes\",\"Unclassified genes\"],\"y\":[0.5005366248219769,1.0569477876922984]},\"selected\":{\"id\":\"1571\"},\"selection_policy\":{\"id\":\"1572\"}},\"id\":\"1538\",\"type\":\"ColumnDataSource\"},{\"attributes\":{\"x0\":{\"field\":\"x0\"},\"x1\":{\"field\":\"x1\"},\"y0\":{\"field\":\"y0\"},\"y1\":{\"field\":\"y1\"}},\"id\":\"1519\",\"type\":\"Segment\"},{\"attributes\":{\"fill_alpha\":{\"value\":0.6},\"fill_color\":{\"value\":\"#F38630\"},\"line_color\":{\"value\":\"#F38630\"},\"size\":{\"value\":6},\"x\":{\"field\":\"x\"},\"y\":{\"field\":\"y\"}},\"id\":\"1549\",\"type\":\"Circle\"},{\"attributes\":{},\"id\":\"1558\",\"type\":\"AllLabels\"},{\"attributes\":{},\"id\":\"1563\",\"type\":\"Selection\"},{\"attributes\":{\"data_source\":{\"id\":\"1538\"},\"glyph\":{\"id\":\"1539\"},\"hover_glyph\":null,\"muted_glyph\":null,\"nonselection_glyph\":{\"id\":\"1540\"},\"view\":{\"id\":\"1542\"}},\"id\":\"1541\",\"type\":\"GlyphRenderer\"},{\"attributes\":{},\"id\":\"1564\",\"type\":\"UnionRenderers\"},{\"attributes\":{\"source\":{\"id\":\"1533\"}},\"id\":\"1537\",\"type\":\"CDSView\"},{\"attributes\":{},\"id\":\"1573\",\"type\":\"Selection\"},{\"attributes\":{},\"id\":\"1574\",\"type\":\"UnionRenderers\"},{\"attributes\":{\"fill_alpha\":{\"value\":0.1},\"fill_color\":{\"value\":\"#F38630\"},\"line_alpha\":{\"value\":0.1},\"line_color\":{\"value\":\"#F38630\"},\"size\":{\"value\":6},\"x\":{\"field\":\"x\"},\"y\":{\"field\":\"y\"}},\"id\":\"1550\",\"type\":\"Circle\"},{\"attributes\":{},\"id\":\"1555\",\"type\":\"AllLabels\"},{\"attributes\":{\"fill_alpha\":{\"value\":0.6},\"fill_color\":{\"value\":\"#F38630\"},\"line_color\":{\"value\":\"#F38630\"},\"size\":{\"value\":6},\"x\":{\"field\":\"x\"},\"y\":{\"field\":\"y\"}},\"id\":\"1544\",\"type\":\"Circle\"},{\"attributes\":{\"axis_label\":\"CV\",\"axis_label_text_font_size\":\"14px\",\"formatter\":{\"id\":\"1556\"},\"major_label_policy\":{\"id\":\"1555\"},\"ticker\":{\"id\":\"1509\"}},\"id\":\"1508\",\"type\":\"LinearAxis\"},{\"attributes\":{\"data\":{\"x\":[\"Reference Genes\"],\"y\":{\"__ndarray__\":\"b+eXftRD4D8=\",\"dtype\":\"float64\",\"order\":\"little\",\"shape\":[1]}},\"selected\":{\"id\":\"1573\"},\"selection_policy\":{\"id\":\"1574\"}},\"id\":\"1543\",\"type\":\"ColumnDataSource\"},{\"attributes\":{},\"id\":\"1559\",\"type\":\"CategoricalTickFormatter\"},{\"attributes\":{\"data\":{\"x\":[\"Reference Genes\",\"Unclassified genes\"],\"y\":[0,0]},\"selected\":{\"id\":\"1569\"},\"selection_policy\":{\"id\":\"1570\"}},\"id\":\"1533\",\"type\":\"ColumnDataSource\"},{\"attributes\":{\"items\":[{\"id\":\"1578\"}],\"location\":\"top_left\"},\"id\":\"1577\",\"type\":\"Legend\"},{\"attributes\":{\"axis\":{\"id\":\"1505\"},\"ticker\":null},\"id\":\"1507\",\"type\":\"Grid\"},{\"attributes\":{\"label\":{\"value\":\"outliers\"},\"renderers\":[{\"id\":\"1551\"}]},\"id\":\"1578\",\"type\":\"LegendItem\"},{\"attributes\":{},\"id\":\"1556\",\"type\":\"BasicTickFormatter\"},{\"attributes\":{\"formatter\":{\"id\":\"1559\"},\"major_label_policy\":{\"id\":\"1558\"},\"major_label_text_font_size\":\"14px\",\"ticker\":{\"id\":\"1506\"}},\"id\":\"1505\",\"type\":\"CategoricalAxis\"},{\"attributes\":{\"data\":{\"x0\":[\"Reference Genes\",\"Unclassified genes\"],\"x1\":[\"Reference Genes\",\"Unclassified genes\"],\"y0\":[0,0],\"y1\":[0.047510330894395825,0.09824883381949222]},\"selected\":{\"id\":\"1563\"},\"selection_policy\":{\"id\":\"1564\"}},\"id\":\"1518\",\"type\":\"ColumnDataSource\"},{\"attributes\":{\"source\":{\"id\":\"1538\"}},\"id\":\"1542\",\"type\":\"CDSView\"},{\"attributes\":{},\"id\":\"1569\",\"type\":\"Selection\"},{\"attributes\":{\"fill_alpha\":{\"value\":0.1},\"fill_color\":{\"value\":\"#F38630\"},\"line_alpha\":{\"value\":0.1},\"line_color\":{\"value\":\"#F38630\"},\"size\":{\"value\":6},\"x\":{\"field\":\"x\"},\"y\":{\"field\":\"y\"}},\"id\":\"1545\",\"type\":\"Circle\"},{\"attributes\":{},\"id\":\"1570\",\"type\":\"UnionRenderers\"},{\"attributes\":{\"axis\":{\"id\":\"1508\"},\"dimension\":1,\"ticker\":null},\"id\":\"1511\",\"type\":\"Grid\"},{\"attributes\":{},\"id\":\"1509\",\"type\":\"BasicTicker\"},{\"attributes\":{\"data\":{\"x\":[\"Unclassified genes\",\"Unclassified genes\"],\"y\":{\"__ndarray__\":\"SbEUiMwz9T+aOxS3bWb1Pw==\",\"dtype\":\"float64\",\"order\":\"little\",\"shape\":[2]}},\"selected\":{\"id\":\"1575\"},\"selection_policy\":{\"id\":\"1576\"}},\"id\":\"1548\",\"type\":\"ColumnDataSource\"},{\"attributes\":{\"x0\":{\"field\":\"x0\"},\"x1\":{\"field\":\"x1\"},\"y0\":{\"field\":\"y0\"},\"y1\":{\"field\":\"y1\"}},\"id\":\"1514\",\"type\":\"Segment\"},{\"attributes\":{\"active_multi\":null},\"id\":\"1512\",\"type\":\"Toolbar\"},{\"attributes\":{\"bottom\":{\"field\":\"bottom\"},\"fill_alpha\":{\"value\":0.1},\"fill_color\":{\"value\":\"#3B8686\"},\"line_alpha\":{\"value\":0.1},\"top\":{\"field\":\"top\"},\"width\":{\"value\":0.3},\"x\":{\"field\":\"x\"}},\"id\":\"1530\",\"type\":\"VBar\"},{\"attributes\":{\"data\":{\"x0\":[\"Reference Genes\",\"Unclassified genes\"],\"x1\":[\"Reference Genes\",\"Unclassified genes\"],\"y0\":[0.22872084846542823,0.4817284153686147],\"y1\":[0.5005366248219769,1.0569477876922984]},\"selected\":{\"id\":\"1561\"},\"selection_policy\":{\"id\":\"1562\"}},\"id\":\"1513\",\"type\":\"ColumnDataSource\"},{\"attributes\":{\"data_source\":{\"id\":\"1543\"},\"glyph\":{\"id\":\"1544\"},\"hover_glyph\":null,\"muted_glyph\":null,\"nonselection_glyph\":{\"id\":\"1545\"},\"view\":{\"id\":\"1547\"}},\"id\":\"1546\",\"type\":\"GlyphRenderer\"},{\"attributes\":{\"line_alpha\":{\"value\":0.1},\"x0\":{\"field\":\"x0\"},\"x1\":{\"field\":\"x1\"},\"y0\":{\"field\":\"y0\"},\"y1\":{\"field\":\"y1\"}},\"id\":\"1515\",\"type\":\"Segment\"},{\"attributes\":{},\"id\":\"1501\",\"type\":\"CategoricalScale\"},{\"attributes\":{\"source\":{\"id\":\"1543\"}},\"id\":\"1547\",\"type\":\"CDSView\"},{\"attributes\":{},\"id\":\"1506\",\"type\":\"CategoricalTicker\"},{\"attributes\":{\"data\":{\"bottom\":[0.18407738946242252,0.4085256003299532],\"top\":[0.047510330894395825,0.09824883381949222],\"x\":[\"Reference Genes\",\"Unclassified genes\"]},\"selected\":{\"id\":\"1567\"},\"selection_policy\":{\"id\":\"1568\"}},\"id\":\"1528\",\"type\":\"ColumnDataSource\"},{\"attributes\":{},\"id\":\"1565\",\"type\":\"Selection\"},{\"attributes\":{\"source\":{\"id\":\"1523\"}},\"id\":\"1527\",\"type\":\"CDSView\"},{\"attributes\":{},\"id\":\"1566\",\"type\":\"UnionRenderers\"},{\"attributes\":{},\"id\":\"1575\",\"type\":\"Selection\"},{\"attributes\":{},\"id\":\"1503\",\"type\":\"LinearScale\"},{\"attributes\":{\"factors\":[\"Reference Genes\",\"Unclassified genes\"]},\"id\":\"1497\",\"type\":\"FactorRange\"},{\"attributes\":{\"fill_color\":{\"value\":\"#1f77b4\"},\"height\":{\"value\":0.0001},\"width\":{\"value\":0.2},\"x\":{\"field\":\"x\"},\"y\":{\"field\":\"y\"}},\"id\":\"1534\",\"type\":\"Rect\"},{\"attributes\":{\"fill_alpha\":{\"value\":0.1},\"fill_color\":{\"value\":\"#1f77b4\"},\"height\":{\"value\":0.0001},\"line_alpha\":{\"value\":0.1},\"width\":{\"value\":0.2},\"x\":{\"field\":\"x\"},\"y\":{\"field\":\"y\"}},\"id\":\"1535\",\"type\":\"Rect\"},{\"attributes\":{\"data_source\":{\"id\":\"1548\"},\"glyph\":{\"id\":\"1549\"},\"hover_glyph\":null,\"muted_glyph\":null,\"nonselection_glyph\":{\"id\":\"1550\"},\"view\":{\"id\":\"1552\"}},\"id\":\"1551\",\"type\":\"GlyphRenderer\"},{\"attributes\":{},\"id\":\"1576\",\"type\":\"UnionRenderers\"},{\"attributes\":{\"data_source\":{\"id\":\"1528\"},\"glyph\":{\"id\":\"1529\"},\"hover_glyph\":null,\"muted_glyph\":null,\"nonselection_glyph\":{\"id\":\"1530\"},\"view\":{\"id\":\"1532\"}},\"id\":\"1531\",\"type\":\"GlyphRenderer\"},{\"attributes\":{\"source\":{\"id\":\"1548\"}},\"id\":\"1552\",\"type\":\"CDSView\"},{\"attributes\":{\"source\":{\"id\":\"1528\"}},\"id\":\"1532\",\"type\":\"CDSView\"}],\"root_ids\":[\"1496\"]},\"title\":\"Bokeh Application\",\"version\":\"2.3.1\"}};\n",
       "  var render_items = [{\"docid\":\"7cfa0dfd-3344-46d2-b65f-f58ebdddb4d5\",\"root_ids\":[\"1496\"],\"roots\":{\"1496\":\"648bbd1c-ce09-4834-8004-c84d24181a27\"}}];\n",
       "  root.Bokeh.embed.embed_items_notebook(docs_json, render_items);\n",
       "\n",
       "  }\n",
       "  if (root.Bokeh !== undefined) {\n",
       "    embed_document(root);\n",
       "  } else {\n",
       "    var attempts = 0;\n",
       "    var timer = setInterval(function(root) {\n",
       "      if (root.Bokeh !== undefined) {\n",
       "        clearInterval(timer);\n",
       "        embed_document(root);\n",
       "      } else {\n",
       "        attempts++;\n",
       "        if (attempts > 100) {\n",
       "          clearInterval(timer);\n",
       "          console.log(\"Bokeh: ERROR: Unable to run BokehJS code because BokehJS library is missing\");\n",
       "        }\n",
       "      }\n",
       "    }, 10, root)\n",
       "  }\n",
       "})(window);"
      ],
      "application/vnd.bokehjs_exec.v0+json": ""
     },
     "metadata": {
      "application/vnd.bokehjs_exec.v0+json": {
       "id": "1496"
      }
     },
     "output_type": "display_data"
    },
    {
     "data": {
      "text/plain": [
       "['./images/cv_boxplot.svg']"
      ]
     },
     "execution_count": 23,
     "metadata": {},
     "output_type": "execute_result"
    }
   ],
   "source": [
    "[rgl,rgq1,rgq2,rgq3,rgu], rgouts = boxtplot_values(np.array(rg_cvvals))\n",
    "[cl,cq1,cq2,cq3,cu], couts = boxtplot_values(np.array(nc_vals))\n",
    "\n",
    "cats = [\"Reference Genes\", \"Unclassified genes\"]\n",
    "p = figure(tools=\"\", background_fill_color=\"#ffffff\", x_range=cats, toolbar_location=None,\n",
    "          plot_height=200, plot_width=280)\n",
    "\n",
    "\n",
    "p.segment(cats, [rgq3,cq3], cats, [rgu,cu], line_color=\"black\")\n",
    "p.segment(cats, [rgl,cl], cats, [rgq1,cq1], line_color=\"black\")\n",
    "# boxes\n",
    "p.vbar(cats, 0.3, [rgq2,cq2], [rgq3,cq3], fill_color=\"#E08E79\", line_color=\"black\")\n",
    "p.vbar(cats, 0.3, [rgq1,cq1], [rgq2,cq2], fill_color=\"#3B8686\", line_color=\"black\")\n",
    "# whiskers\n",
    "p.rect(cats, [rgl,cl], 0.2, 0.0001, line_color=\"black\")\n",
    "p.rect(cats, [rgu,cu], 0.2, 0.0001, line_color=\"black\")\n",
    "\n",
    "p.circle([cats[0] for i in range(len(np.unique(rgouts)))], np.unique(rgouts),\n",
    "         size=6, color=\"#F38630\", fill_alpha=0.6)\n",
    "p.circle([cats[1] for i in range(len(np.unique(couts)))], np.unique(couts),\n",
    "         size=6, color=\"#F38630\", fill_alpha=0.6, legend_label=\"outliers\")\n",
    "p.yaxis.axis_label = 'CV'\n",
    "p.legend.location = \"top_left\"\n",
    "p.xaxis.major_label_text_font_size = \"14px\"\n",
    "p.yaxis.axis_label_text_font_size = \"14px\"\n",
    "p.output_backend = \"svg\"\n",
    "show(p)\n",
    "#export_png(p, filename=\"./images/cv_boxplot.png\")\n",
    "export_svgs(p, filename=\"./images/cv_boxplot.svg\")"
   ]
  },
  {
   "cell_type": "code",
   "execution_count": 24,
   "metadata": {},
   "outputs": [
    {
     "data": {
      "image/png": "[encoded data removed]",
      "text/plain": [
       "<Figure size 432x360 with 1 Axes>"
      ]
     },
     "metadata": {
      "needs_background": "light"
     },
     "output_type": "display_data"
    }
   ],
   "source": [
    "fig1 = plt.figure(figsize=(6,5))\n",
    "i = 0\n",
    "ax1 = fig1.add_subplot()\n",
    "ax1.spines[\"top\"].set_visible(False)\n",
    "ax1.spines[\"right\"].set_visible(False)\n",
    "plt.title(\"CV dos genes não clasificados\", fontsize=13)\n",
    "plt.ylabel(\"coeficiente de variação\", fontsize=13)\n",
    "\n",
    "blue_list = []\n",
    "red_list = []\n",
    "for gene in nc_cvvals.keys():\n",
    "    if nc_cvvals[gene] <= nc_upper and nc_cvvals[gene] >= nc_lower:\n",
    "        blue_list.append(nc_cvvals[gene])\n",
    "    else:\n",
    "        red_list.append(nc_cvvals[gene])\n",
    "        \n",
    "plt.scatter(np.ones(len(blue_list)), blue_list, color=\"blue\")\n",
    "plt.scatter(np.ones(len(red_list)), red_list, color=\"red\", label=\"outliers\")\n",
    "plt.boxplot(nc_vals, whis=1.5);\n",
    "plt.legend();"
   ]
  },
  {
   "cell_type": "code",
   "execution_count": 25,
   "metadata": {},
   "outputs": [
    {
     "name": "stdout",
     "output_type": "stream",
     "text": [
      "max cv:  1.0569477876922984\n",
      "------------ outliers -------------\n",
      "gene: rdlA cv: 1.3251462283761433\n",
      "gene: rdlB cv: 1.3375069762730392\n"
     ]
    }
   ],
   "source": [
    "print(\"max cv: \", nc_upper)\n",
    "print(\"------------ outliers -------------\")\n",
    "for gene in nc_cvvals.keys():\n",
    "    if nc_cvvals[gene] > nc_upper or nc_cvvals[gene] < nc_lower:\n",
    "        lg_drop.append(gene)\n",
    "        print(\"gene:\", gene, \"cv:\", nc_cvvals[gene])\n"
   ]
  },
  {
   "cell_type": "code",
   "execution_count": 26,
   "metadata": {},
   "outputs": [
    {
     "data": {
      "text/plain": [
       "['idnT', 'rdlA', 'rdlB']"
      ]
     },
     "execution_count": 26,
     "metadata": {},
     "output_type": "execute_result"
    }
   ],
   "source": [
    "lg_drop"
   ]
  },
  {
   "cell_type": "code",
   "execution_count": 27,
   "metadata": {},
   "outputs": [],
   "source": [
    "for g in lg_drop:\n",
    "    del cv_datos[g]"
   ]
  },
  {
   "cell_type": "code",
   "execution_count": 28,
   "metadata": {},
   "outputs": [
    {
     "name": "stdout",
     "output_type": "stream",
     "text": [
      "quantidade de dados: 4188\n"
     ]
    }
   ],
   "source": [
    "print(\"quantidade de dados:\", len(cv_datos))"
   ]
  },
  {
   "cell_type": "code",
   "execution_count": 29,
   "metadata": {},
   "outputs": [
    {
     "data": {
      "text/plain": [
       "4188"
      ]
     },
     "execution_count": 29,
     "metadata": {},
     "output_type": "execute_result"
    }
   ],
   "source": [
    "len(cv_datos.keys())"
   ]
  },
  {
   "cell_type": "code",
   "execution_count": 30,
   "metadata": {},
   "outputs": [
    {
     "name": "stdout",
     "output_type": "stream",
     "text": [
      "(4188, 9) (4191, 9)\n"
     ]
    }
   ],
   "source": [
    "datos_p = datos.loc[cv_datos.keys()]\n",
    "print(datos_p.shape, datos.shape)"
   ]
  },
  {
   "cell_type": "code",
   "execution_count": 31,
   "metadata": {},
   "outputs": [],
   "source": [
    "datos_p.to_csv(\"./data/all_counts_9_norm_rpkm_log2_preprocessed.csv\")"
   ]
  },
  {
   "cell_type": "code",
   "execution_count": null,
   "metadata": {},
   "outputs": [],
   "source": []
  }
 ],
 "metadata": {
  "kernelspec": {
   "display_name": "Python 3",
   "language": "python",
   "name": "python3"
  },
  "language_info": {
   "codemirror_mode": {
    "name": "ipython",
    "version": 3
   },
   "file_extension": ".py",
   "mimetype": "text/x-python",
   "name": "python",
   "nbconvert_exporter": "python",
   "pygments_lexer": "ipython3",
   "version": "3.8.10"
  }
 },
 "nbformat": 4,
 "nbformat_minor": 2
}
